{
 "cells": [
  {
   "cell_type": "code",
   "execution_count": 1,
   "metadata": {},
   "outputs": [
    {
     "name": "stdout",
     "output_type": "stream",
     "text": [
      "[1000, 1100.0, 1210.0, 1331.0, 1464.1, 1610.51]\n"
     ]
    }
   ],
   "source": [
    "valueSales = 1000\n",
    "rate = 0.1\n",
    "years = 6\n",
    "listV = []\n",
    "listV.append(valueSales)\n",
    "while years > 1:\n",
    "    value = listV[-1]\n",
    "    valueT = value + value*rate\n",
    "    listV.append(valueT)\n",
    "    years = years - 1\n",
    "print(listV)"
   ]
  },
  {
   "cell_type": "code",
   "execution_count": 2,
   "metadata": {},
   "outputs": [
    {
     "name": "stdout",
     "output_type": "stream",
     "text": [
      "[300.00000000000006, 330.00000000000006, 363.00000000000006, 399.30000000000007, 439.23, 483.1530000000001]\n"
     ]
    }
   ],
   "source": [
    "margin = 0.7\n",
    "listM = []\n",
    "for i in listV:\n",
    "    value = i * (1-margin)\n",
    "    listM.append(value)\n",
    "print(listM)"
   ]
  },
  {
   "cell_type": "code",
   "execution_count": 3,
   "metadata": {},
   "outputs": [
    {
     "name": "stdout",
     "output_type": "stream",
     "text": [
      "[700.0, 770.0, 847.0, 931.6999999999999, 1024.87, 1127.357]\n"
     ]
    }
   ],
   "source": [
    "listP = []\n",
    "for i in range(len(listV)):\n",
    "    valueA = listV[i]\n",
    "    valueB = listM[i]\n",
    "    sales = valueA - valueB\n",
    "    listP.append(sales)\n",
    "print(listP)"
   ]
  },
  {
   "cell_type": "code",
   "execution_count": 4,
   "metadata": {},
   "outputs": [
    {
     "name": "stdout",
     "output_type": "stream",
     "text": [
      "[200.0, 270.0, 347.0, 431.69999999999993, 524.8699999999999, 627.357]\n"
     ]
    }
   ],
   "source": [
    "fixCost = 500\n",
    "profit = []\n",
    "for i in listP:\n",
    "    value = i - fixCost\n",
    "    profit.append(value)\n",
    "print(profit)"
   ]
  },
  {
   "cell_type": "code",
   "execution_count": 6,
   "metadata": {},
   "outputs": [
    {
     "name": "stdout",
     "output_type": "stream",
     "text": [
      "[814, 302, 1740, 526, 1244, 1193]\n"
     ]
    }
   ],
   "source": [
    "import random\n",
    "years = 6\n",
    "listR = []\n",
    "while years > 0:\n",
    "    listR.append(random.randint(200,2000))\n",
    "    years = years - 1\n",
    "print(listR)"
   ]
  },
  {
   "cell_type": "code",
   "execution_count": 7,
   "metadata": {},
   "outputs": [
    {
     "name": "stdout",
     "output_type": "stream",
     "text": [
      "[-255.79999999999995, -409.4, 22.000000000000114, -342.2, -126.79999999999995, -142.09999999999997]\n"
     ]
    }
   ],
   "source": [
    "margin = 0.7\n",
    "costFix = 500\n",
    "newProfit = []\n",
    "for i in listR:\n",
    "    value = i * (1-margin)\n",
    "    value = value - costFix\n",
    "    newProfit.append(value)\n",
    "print(newProfit)"
   ]
  },
  {
   "cell_type": "code",
   "execution_count": 8,
   "metadata": {},
   "outputs": [
    {
     "name": "stdout",
     "output_type": "stream",
     "text": [
      "1\n",
      "16.7%\n"
     ]
    }
   ],
   "source": [
    "var = 0\n",
    "for i in newProfit:\n",
    "    if i > 0:\n",
    "        var = var + 1\n",
    "print (var)\n",
    "perce = var/len(newProfit)\n",
    "print ('{:.1%}'.format(perce))"
   ]
  },
  {
   "cell_type": "code",
   "execution_count": 10,
   "metadata": {},
   "outputs": [
    {
     "data": {
      "image/png": "[encoded data removed]",
      "text/plain": [
       "<Figure size 432x288 with 1 Axes>"
      ]
     },
     "metadata": {
      "needs_background": "light"
     },
     "output_type": "display_data"
    }
   ],
   "source": [
    "import matplotlib.pyplot as plt\n",
    "plt.plot(listV)\n",
    "plt.plot(listR)\n",
    "plt.ylabel('sales')\n",
    "plt.xlabel('years')\n",
    "plt.show()"
   ]
  },
  {
   "cell_type": "code",
   "execution_count": null,
   "metadata": {},
   "outputs": [],
   "source": []
  },
  {
   "cell_type": "code",
   "execution_count": null,
   "metadata": {},
   "outputs": [],
   "source": []
  },
  {
   "cell_type": "code",
   "execution_count": null,
   "metadata": {},
   "outputs": [],
   "source": []
  },
  {
   "cell_type": "code",
   "execution_count": null,
   "metadata": {},
   "outputs": [],
   "source": []
  }
 ],
 "metadata": {
  "kernelspec": {
   "display_name": "Python 3",
   "language": "python",
   "name": "python3"
  },
  "language_info": {
   "codemirror_mode": {
    "name": "ipython",
    "version": 3
   },
   "file_extension": ".py",
   "mimetype": "text/x-python",
   "name": "python",
   "nbconvert_exporter": "python",
   "pygments_lexer": "ipython3",
   "version": "3.7.3"
  }
 },
 "nbformat": 4,
 "nbformat_minor": 2
}
