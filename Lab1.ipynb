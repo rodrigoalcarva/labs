{
 "cells": [
  {
   "cell_type": "code",
   "execution_count": 1,
   "metadata": {},
   "outputs": [
    {
     "name": "stdout",
     "output_type": "stream",
     "text": [
      "Coloque um número: 10\n",
      "É inteiro\n"
     ]
    }
   ],
   "source": [
    "x = int(input(\"Coloque um número: \"))\n",
    "if type(x) == int:\n",
    "    print (\"É inteiro\")"
   ]
  },
  {
   "cell_type": "code",
   "execution_count": 2,
   "metadata": {},
   "outputs": [
    {
     "name": "stdout",
     "output_type": "stream",
     "text": [
      "Coloque um número: 1\n",
      "É impar\n"
     ]
    }
   ],
   "source": [
    "x = int(input(\"Coloque um número: \"))\n",
    "if x%2==0:\n",
    "    print(\"É par\")\n",
    "else:\n",
    "    print(\"É impar\")"
   ]
  },
  {
   "cell_type": "code",
   "execution_count": 3,
   "metadata": {},
   "outputs": [
    {
     "name": "stdout",
     "output_type": "stream",
     "text": [
      "Coloque um número: 12\n",
      "Coloque um número: 12\n",
      "São iguais\n"
     ]
    }
   ],
   "source": [
    "x =int(input(\"Coloque um número: \"))\n",
    "y = int(input(\"Coloque um número: \"))\n",
    "if x > y:\n",
    "    print (\"O 1º número é maior\")\n",
    "elif x == y:\n",
    "    print (\"São iguais\")\n",
    "else:\n",
    "    print (\"O 2º número é maior\")"
   ]
  },
  {
   "cell_type": "code",
   "execution_count": 4,
   "metadata": {},
   "outputs": [
    {
     "name": "stdout",
     "output_type": "stream",
     "text": [
      "Coloque um número: 12\n",
      "Coloque um número: 23\n",
      "Não é multiplo\n"
     ]
    }
   ],
   "source": [
    "x =int(input(\"Coloque um número: \"))\n",
    "y = int(input(\"Coloque um número: \"))\n",
    "\n",
    "if x%y ==0:\n",
    "    print(\"É multiplo\")\n",
    "else:\n",
    "    print(\"Não é multiplo\")"
   ]
  },
  {
   "cell_type": "code",
   "execution_count": 5,
   "metadata": {},
   "outputs": [
    {
     "name": "stdout",
     "output_type": "stream",
     "text": [
      "18.0\n"
     ]
    }
   ],
   "source": [
    "capital = 200\n",
    "tempo = 3\n",
    "taxa = 0.03\n",
    "formula = capital *tempo * taxa\n",
    "print(formula)"
   ]
  },
  {
   "cell_type": "code",
   "execution_count": 6,
   "metadata": {},
   "outputs": [
    {
     "name": "stdout",
     "output_type": "stream",
     "text": [
      "200.0054\n"
     ]
    }
   ],
   "source": [
    "capital = 200\n",
    "tempo = 3\n",
    "taxa = 0.03\n",
    "formula = (capital * (1+ (taxa **tempo)))\n",
    "print(formula)"
   ]
  },
  {
   "cell_type": "code",
   "execution_count": 7,
   "metadata": {},
   "outputs": [
    {
     "name": "stdout",
     "output_type": "stream",
     "text": [
      "16.70620468441979\n"
     ]
    }
   ],
   "source": [
    "peso=50\n",
    "altura=1.73\n",
    "BMI = (peso)/(altura**2)\n",
    "print (BMI)"
   ]
  },
  {
   "cell_type": "code",
   "execution_count": 11,
   "metadata": {},
   "outputs": [
    {
     "name": "stdout",
     "output_type": "stream",
     "text": [
      "1.618033988749895\n"
     ]
    }
   ],
   "source": [
    "from math import sqrt\n",
    "golden = (1 + sqrt(5))/2\n",
    "print (golden)"
   ]
  },
  {
   "cell_type": "code",
   "execution_count": 1,
   "metadata": {},
   "outputs": [
    {
     "name": "stdout",
     "output_type": "stream",
     "text": [
      "21\n"
     ]
    }
   ],
   "source": [
    "from datetime import date\n",
    "today = date.today()\n",
    "ano = 1998\n",
    "anos = today.year -1998\n",
    "print(anos)"
   ]
  },
  {
   "cell_type": "code",
   "execution_count": 13,
   "metadata": {},
   "outputs": [
    {
     "name": "stdout",
     "output_type": "stream",
     "text": [
      "RODRIGO HELIODORO VILACA SANTOS ALCARVA\n",
      "Rodrigo Heliodoro Vilaca Santos Alcarva\n",
      "rodrigo heliodoro vilaca santos alcarva\n",
      "Rodrigo heliodoro vilaca santos alcarva\n"
     ]
    }
   ],
   "source": [
    "name = \"Rodrigo Heliodoro Vilaca Santos Alcarva\"\n",
    "nameBig = name.upper()\n",
    "nameTitle = name.title()\n",
    "nameSmall = name.lower()\n",
    "nameCapitalize = name.capitalize()\n",
    "\n",
    "print (nameBig)\n",
    "print (nameTitle)\n",
    "print (nameSmall)\n",
    "print (nameCapitalize)"
   ]
  },
  {
   "cell_type": "code",
   "execution_count": 16,
   "metadata": {},
   "outputs": [
    {
     "name": "stdout",
     "output_type": "stream",
     "text": [
      "-1\n"
     ]
    }
   ],
   "source": [
    "name = \"Rodrigo Heliodoro Vilaca Santos Alcarva\"\n",
    "print(name.find('da'))\n"
   ]
  },
  {
   "cell_type": "code",
   "execution_count": null,
   "metadata": {},
   "outputs": [],
   "source": []
  }
 ],
 "metadata": {
  "kernelspec": {
   "display_name": "Python 3",
   "language": "python",
   "name": "python3"
  },
  "language_info": {
   "codemirror_mode": {
    "name": "ipython",
    "version": 3
   },
   "file_extension": ".py",
   "mimetype": "text/x-python",
   "name": "python",
   "nbconvert_exporter": "python",
   "pygments_lexer": "ipython3",
   "version": "3.7.3"
  }
 },
 "nbformat": 4,
 "nbformat_minor": 2
}
